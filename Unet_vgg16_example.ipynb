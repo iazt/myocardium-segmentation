{
  "nbformat": 4,
  "nbformat_minor": 0,
  "metadata": {
    "colab": {
      "name": "Unet_vgg16_example.ipynb",
      "provenance": [],
      "machine_shape": "hm"
    },
    "kernelspec": {
      "name": "python3",
      "display_name": "Python 3"
    },
    "accelerator": "GPU"
  },
  "cells": [
    {
      "cell_type": "markdown",
      "metadata": {
        "id": "i0d08692m7Ev",
        "colab_type": "text"
      },
      "source": [
        "#Se monta el drive con los datos\n"
      ]
    },
    {
      "cell_type": "code",
      "metadata": {
        "id": "PJgo-zEQi7BM",
        "colab_type": "code",
        "outputId": "96631ee6-7754-40eb-c744-5735bf484292",
        "colab": {
          "base_uri": "https://localhost:8080/",
          "height": 122
        }
      },
      "source": [
        "from google.colab import drive\n",
        "drive.mount('/content/drive')"
      ],
      "execution_count": 1,
      "outputs": [
        {
          "output_type": "stream",
          "text": [
            "Go to this URL in a browser: https://accounts.google.com/o/oauth2/auth?client_id=947318989803-6bn6qk8qdgf4n4g3pfee6491hc0brc4i.apps.googleusercontent.com&redirect_uri=urn%3Aietf%3Awg%3Aoauth%3A2.0%3Aoob&scope=email%20https%3A%2F%2Fwww.googleapis.com%2Fauth%2Fdocs.test%20https%3A%2F%2Fwww.googleapis.com%2Fauth%2Fdrive%20https%3A%2F%2Fwww.googleapis.com%2Fauth%2Fdrive.photos.readonly%20https%3A%2F%2Fwww.googleapis.com%2Fauth%2Fpeopleapi.readonly&response_type=code\n",
            "\n",
            "Enter your authorization code:\n",
            "··········\n",
            "Mounted at /content/drive\n"
          ],
          "name": "stdout"
        }
      ]
    },
    {
      "cell_type": "markdown",
      "metadata": {
        "id": "4hJ5_DCSyTGY",
        "colab_type": "text"
      },
      "source": [
        "#Instalación Keras-unet y RAdam\n"
      ]
    },
    {
      "cell_type": "code",
      "metadata": {
        "id": "ZqvI0FGdpuCZ",
        "colab_type": "code",
        "colab": {
          "base_uri": "https://localhost:8080/",
          "height": 323
        },
        "outputId": "9bcdcb34-5dd6-41aa-a9fb-be0326e44c93"
      },
      "source": [
        "pip install git+https://github.com/karolzak/keras-unet"
      ],
      "execution_count": 2,
      "outputs": [
        {
          "output_type": "stream",
          "text": [
            "Collecting git+https://github.com/karolzak/keras-unet\n",
            "  Cloning https://github.com/karolzak/keras-unet to /tmp/pip-req-build-dmdp89bx\n",
            "  Running command git clone -q https://github.com/karolzak/keras-unet /tmp/pip-req-build-dmdp89bx\n",
            "Requirement already satisfied: keras in /usr/local/lib/python3.6/dist-packages (from keras-unet==0.0.7) (2.2.5)\n",
            "Requirement already satisfied: scipy>=0.14 in /usr/local/lib/python3.6/dist-packages (from keras->keras-unet==0.0.7) (1.3.1)\n",
            "Requirement already satisfied: numpy>=1.9.1 in /usr/local/lib/python3.6/dist-packages (from keras->keras-unet==0.0.7) (1.16.5)\n",
            "Requirement already satisfied: pyyaml in /usr/local/lib/python3.6/dist-packages (from keras->keras-unet==0.0.7) (3.13)\n",
            "Requirement already satisfied: keras-applications>=1.0.8 in /usr/local/lib/python3.6/dist-packages (from keras->keras-unet==0.0.7) (1.0.8)\n",
            "Requirement already satisfied: six>=1.9.0 in /usr/local/lib/python3.6/dist-packages (from keras->keras-unet==0.0.7) (1.12.0)\n",
            "Requirement already satisfied: keras-preprocessing>=1.1.0 in /usr/local/lib/python3.6/dist-packages (from keras->keras-unet==0.0.7) (1.1.0)\n",
            "Requirement already satisfied: h5py in /usr/local/lib/python3.6/dist-packages (from keras->keras-unet==0.0.7) (2.8.0)\n",
            "Building wheels for collected packages: keras-unet\n",
            "  Building wheel for keras-unet (setup.py) ... \u001b[?25l\u001b[?25hdone\n",
            "  Created wheel for keras-unet: filename=keras_unet-0.0.7-cp36-none-any.whl size=11848 sha256=ccbc96861026638b697138ca32253ee650f650d04ffc930ba6952110b55e39fc\n",
            "  Stored in directory: /tmp/pip-ephem-wheel-cache-hbiysle5/wheels/b3/3a/85/c3df1c96b5d83dcd2c09b634e72a98cafcf12a52501ac5cd77\n",
            "Successfully built keras-unet\n",
            "Installing collected packages: keras-unet\n",
            "Successfully installed keras-unet-0.0.7\n"
          ],
          "name": "stdout"
        }
      ]
    },
    {
      "cell_type": "code",
      "metadata": {
        "id": "GNB449AdqNvq",
        "colab_type": "code",
        "colab": {
          "base_uri": "https://localhost:8080/",
          "height": 326
        },
        "outputId": "34d50bbe-f7e8-4ad6-b279-19934c2be550"
      },
      "source": [
        "pip install keras-rectified-adam"
      ],
      "execution_count": 3,
      "outputs": [
        {
          "output_type": "stream",
          "text": [
            "Collecting keras-rectified-adam\n",
            "  Downloading https://files.pythonhosted.org/packages/21/79/9521f66b92186702cb58a214c1b923b416266381cd824e15a1733f6a5b06/keras-rectified-adam-0.17.0.tar.gz\n",
            "Requirement already satisfied: numpy in /usr/local/lib/python3.6/dist-packages (from keras-rectified-adam) (1.16.5)\n",
            "Requirement already satisfied: Keras in /usr/local/lib/python3.6/dist-packages (from keras-rectified-adam) (2.2.5)\n",
            "Requirement already satisfied: scipy>=0.14 in /usr/local/lib/python3.6/dist-packages (from Keras->keras-rectified-adam) (1.3.1)\n",
            "Requirement already satisfied: pyyaml in /usr/local/lib/python3.6/dist-packages (from Keras->keras-rectified-adam) (3.13)\n",
            "Requirement already satisfied: keras-preprocessing>=1.1.0 in /usr/local/lib/python3.6/dist-packages (from Keras->keras-rectified-adam) (1.1.0)\n",
            "Requirement already satisfied: keras-applications>=1.0.8 in /usr/local/lib/python3.6/dist-packages (from Keras->keras-rectified-adam) (1.0.8)\n",
            "Requirement already satisfied: six>=1.9.0 in /usr/local/lib/python3.6/dist-packages (from Keras->keras-rectified-adam) (1.12.0)\n",
            "Requirement already satisfied: h5py in /usr/local/lib/python3.6/dist-packages (from Keras->keras-rectified-adam) (2.8.0)\n",
            "Building wheels for collected packages: keras-rectified-adam\n",
            "  Building wheel for keras-rectified-adam (setup.py) ... \u001b[?25l\u001b[?25hdone\n",
            "  Created wheel for keras-rectified-adam: filename=keras_rectified_adam-0.17.0-cp36-none-any.whl size=14781 sha256=433b24cb07e08d98aa5176f3b9de22bcc00e69a8a1baf8d8dc98b104defee26c\n",
            "  Stored in directory: /root/.cache/pip/wheels/7b/01/27/3a934e1a5644f5b93c720422a6ef97034ea78a21ba71cfb549\n",
            "Successfully built keras-rectified-adam\n",
            "Installing collected packages: keras-rectified-adam\n",
            "Successfully installed keras-rectified-adam-0.17.0\n"
          ],
          "name": "stdout"
        }
      ]
    },
    {
      "cell_type": "code",
      "metadata": {
        "id": "TGkIPTXBp_EB",
        "colab_type": "code",
        "colab": {}
      },
      "source": [
        "from keras.callbacks import ModelCheckpoint, TensorBoard, EarlyStopping, ReduceLROnPlateau\n",
        "from keras_unet.utils import get_augmented\n",
        "from keras.preprocessing.image import ImageDataGenerator\n",
        "from keras.utils import to_categorical\n",
        "import tensorflow as tf\n",
        "import keras as K\n",
        "import numpy as np\n",
        "from keras_radam import RAdam"
      ],
      "execution_count": 0,
      "outputs": []
    },
    {
      "cell_type": "markdown",
      "metadata": {
        "id": "jkG7t-sgi0oI",
        "colab_type": "text"
      },
      "source": [
        "# Scripts en el github"
      ]
    },
    {
      "cell_type": "code",
      "metadata": {
        "id": "ZXQXMZU9WUB9",
        "colab_type": "code",
        "colab": {}
      },
      "source": [
        "from VGG16_UNET import UNET1_VGG16\n",
        "from utils import extract_statistics\n"
      ],
      "execution_count": 0,
      "outputs": []
    },
    {
      "cell_type": "code",
      "metadata": {
        "id": "Ey2664tosJ0r",
        "colab_type": "code",
        "colab": {}
      },
      "source": [
        "config = tf.ConfigProto( device_count = {'GPU': 56 , 'CPU': 56} ) \n",
        "sess = tf.Session(config=config) \n",
        "K.backend.set_session(sess)"
      ],
      "execution_count": 0,
      "outputs": []
    },
    {
      "cell_type": "markdown",
      "metadata": {
        "id": "kpv38m0Fyh2y",
        "colab_type": "text"
      },
      "source": [
        "#Se crea la red"
      ]
    },
    {
      "cell_type": "code",
      "metadata": {
        "id": "LcI5rFS-qQnK",
        "colab_type": "code",
        "colab": {
          "base_uri": "https://localhost:8080/",
          "height": 1000
        },
        "outputId": "7ce29c0b-4c62-4fae-f55b-075497643dfa"
      },
      "source": [
        "model = UNET1_VGG16(keep_prob=0.3,optimizer=RAdam())"
      ],
      "execution_count": 7,
      "outputs": [
        {
          "output_type": "stream",
          "text": [
            "WARNING:tensorflow:From /usr/local/lib/python3.6/dist-packages/keras/backend/tensorflow_backend.py:66: The name tf.get_default_graph is deprecated. Please use tf.compat.v1.get_default_graph instead.\n",
            "\n",
            "WARNING:tensorflow:From /usr/local/lib/python3.6/dist-packages/keras/backend/tensorflow_backend.py:541: The name tf.placeholder is deprecated. Please use tf.compat.v1.placeholder instead.\n",
            "\n",
            "WARNING:tensorflow:From /usr/local/lib/python3.6/dist-packages/keras/backend/tensorflow_backend.py:4432: The name tf.random_uniform is deprecated. Please use tf.random.uniform instead.\n",
            "\n",
            "WARNING:tensorflow:From /usr/local/lib/python3.6/dist-packages/keras/backend/tensorflow_backend.py:4267: The name tf.nn.max_pool is deprecated. Please use tf.nn.max_pool2d instead.\n",
            "\n",
            "Downloading data from https://github.com/fchollet/deep-learning-models/releases/download/v0.1/vgg16_weights_tf_dim_ordering_tf_kernels_notop.h5\n",
            "58892288/58889256 [==============================] - 3s 0us/step\n",
            "WARNING:tensorflow:From /usr/local/lib/python3.6/dist-packages/keras/backend/tensorflow_backend.py:190: The name tf.get_default_session is deprecated. Please use tf.compat.v1.get_default_session instead.\n",
            "\n",
            "WARNING:tensorflow:From /usr/local/lib/python3.6/dist-packages/keras/backend/tensorflow_backend.py:207: The name tf.global_variables is deprecated. Please use tf.compat.v1.global_variables instead.\n",
            "\n",
            "WARNING:tensorflow:From /usr/local/lib/python3.6/dist-packages/keras/backend/tensorflow_backend.py:216: The name tf.is_variable_initialized is deprecated. Please use tf.compat.v1.is_variable_initialized instead.\n",
            "\n",
            "WARNING:tensorflow:From /usr/local/lib/python3.6/dist-packages/keras/backend/tensorflow_backend.py:223: The name tf.variables_initializer is deprecated. Please use tf.compat.v1.variables_initializer instead.\n",
            "\n",
            "WARNING:tensorflow:From /usr/local/lib/python3.6/dist-packages/keras/backend/tensorflow_backend.py:4479: The name tf.truncated_normal is deprecated. Please use tf.random.truncated_normal instead.\n",
            "\n",
            "WARNING:tensorflow:From /usr/local/lib/python3.6/dist-packages/keras/backend/tensorflow_backend.py:2041: The name tf.nn.fused_batch_norm is deprecated. Please use tf.compat.v1.nn.fused_batch_norm instead.\n",
            "\n",
            "WARNING:tensorflow:From /usr/local/lib/python3.6/dist-packages/keras/backend/tensorflow_backend.py:148: The name tf.placeholder_with_default is deprecated. Please use tf.compat.v1.placeholder_with_default instead.\n",
            "\n",
            "WARNING:tensorflow:From /usr/local/lib/python3.6/dist-packages/keras/backend/tensorflow_backend.py:3733: calling dropout (from tensorflow.python.ops.nn_ops) with keep_prob is deprecated and will be removed in a future version.\n",
            "Instructions for updating:\n",
            "Please use `rate` instead of `keep_prob`. Rate should be set to `rate = 1 - keep_prob`.\n",
            "Model: \"model_1\"\n",
            "__________________________________________________________________________________________________\n",
            "Layer (type)                    Output Shape         Param #     Connected to                     \n",
            "==================================================================================================\n",
            "input_1 (InputLayer)            (None, 256, 256, 1)  0                                            \n",
            "__________________________________________________________________________________________________\n",
            "gray_to_rgb (Gray2VGGInput)     (None, 256, 256, 3)  0           input_1[0][0]                    \n",
            "__________________________________________________________________________________________________\n",
            "block1_conv1 (Conv2D)           (None, 256, 256, 64) 1792        gray_to_rgb[0][0]                \n",
            "__________________________________________________________________________________________________\n",
            "block1_conv2 (Conv2D)           (None, 256, 256, 64) 36928       block1_conv1[0][0]               \n",
            "__________________________________________________________________________________________________\n",
            "block1_pool (MaxPooling2D)      (None, 128, 128, 64) 0           block1_conv2[0][0]               \n",
            "__________________________________________________________________________________________________\n",
            "block2_conv1 (Conv2D)           (None, 128, 128, 128 73856       block1_pool[0][0]                \n",
            "__________________________________________________________________________________________________\n",
            "block2_conv2 (Conv2D)           (None, 128, 128, 128 147584      block2_conv1[0][0]               \n",
            "__________________________________________________________________________________________________\n",
            "block2_pool (MaxPooling2D)      (None, 64, 64, 128)  0           block2_conv2[0][0]               \n",
            "__________________________________________________________________________________________________\n",
            "block3_conv1 (Conv2D)           (None, 64, 64, 256)  295168      block2_pool[0][0]                \n",
            "__________________________________________________________________________________________________\n",
            "block3_conv2 (Conv2D)           (None, 64, 64, 256)  590080      block3_conv1[0][0]               \n",
            "__________________________________________________________________________________________________\n",
            "block3_conv3 (Conv2D)           (None, 64, 64, 256)  590080      block3_conv2[0][0]               \n",
            "__________________________________________________________________________________________________\n",
            "block3_pool (MaxPooling2D)      (None, 32, 32, 256)  0           block3_conv3[0][0]               \n",
            "__________________________________________________________________________________________________\n",
            "block4_conv1 (Conv2D)           (None, 32, 32, 512)  1180160     block3_pool[0][0]                \n",
            "__________________________________________________________________________________________________\n",
            "block4_conv2 (Conv2D)           (None, 32, 32, 512)  2359808     block4_conv1[0][0]               \n",
            "__________________________________________________________________________________________________\n",
            "block4_conv3 (Conv2D)           (None, 32, 32, 512)  2359808     block4_conv2[0][0]               \n",
            "__________________________________________________________________________________________________\n",
            "block4_pool (MaxPooling2D)      (None, 16, 16, 512)  0           block4_conv3[0][0]               \n",
            "__________________________________________________________________________________________________\n",
            "block5_conv1 (Conv2D)           (None, 16, 16, 512)  2359808     block4_pool[0][0]                \n",
            "__________________________________________________________________________________________________\n",
            "block5_conv2 (Conv2D)           (None, 16, 16, 512)  2359808     block5_conv1[0][0]               \n",
            "__________________________________________________________________________________________________\n",
            "conv2d_transpose_1 (Conv2DTrans (None, 32, 32, 512)  1049088     block5_conv2[0][0]               \n",
            "__________________________________________________________________________________________________\n",
            "concatenate_2 (Concatenate)     (None, 32, 32, 1024) 0           conv2d_transpose_1[0][0]         \n",
            "                                                                 block4_conv2[0][0]               \n",
            "__________________________________________________________________________________________________\n",
            "conv2d_1 (Conv2D)               (None, 32, 32, 512)  524800      concatenate_2[0][0]              \n",
            "__________________________________________________________________________________________________\n",
            "batch_normalization_1 (BatchNor (None, 32, 32, 512)  2048        conv2d_1[0][0]                   \n",
            "__________________________________________________________________________________________________\n",
            "dropout_1 (Dropout)             (None, 32, 32, 512)  0           batch_normalization_1[0][0]      \n",
            "__________________________________________________________________________________________________\n",
            "conv2d_2 (Conv2D)               (None, 32, 32, 512)  262656      dropout_1[0][0]                  \n",
            "__________________________________________________________________________________________________\n",
            "batch_normalization_2 (BatchNor (None, 32, 32, 512)  2048        conv2d_2[0][0]                   \n",
            "__________________________________________________________________________________________________\n",
            "conv2d_transpose_2 (Conv2DTrans (None, 64, 64, 256)  524544      batch_normalization_2[0][0]      \n",
            "__________________________________________________________________________________________________\n",
            "concatenate_3 (Concatenate)     (None, 64, 64, 512)  0           conv2d_transpose_2[0][0]         \n",
            "                                                                 block3_conv2[0][0]               \n",
            "__________________________________________________________________________________________________\n",
            "conv2d_3 (Conv2D)               (None, 64, 64, 256)  131328      concatenate_3[0][0]              \n",
            "__________________________________________________________________________________________________\n",
            "batch_normalization_3 (BatchNor (None, 64, 64, 256)  1024        conv2d_3[0][0]                   \n",
            "__________________________________________________________________________________________________\n",
            "dropout_2 (Dropout)             (None, 64, 64, 256)  0           batch_normalization_3[0][0]      \n",
            "__________________________________________________________________________________________________\n",
            "conv2d_4 (Conv2D)               (None, 64, 64, 256)  65792       dropout_2[0][0]                  \n",
            "__________________________________________________________________________________________________\n",
            "batch_normalization_4 (BatchNor (None, 64, 64, 256)  1024        conv2d_4[0][0]                   \n",
            "__________________________________________________________________________________________________\n",
            "conv2d_transpose_3 (Conv2DTrans (None, 128, 128, 128 131200      batch_normalization_4[0][0]      \n",
            "__________________________________________________________________________________________________\n",
            "concatenate_4 (Concatenate)     (None, 128, 128, 256 0           conv2d_transpose_3[0][0]         \n",
            "                                                                 block2_conv2[0][0]               \n",
            "__________________________________________________________________________________________________\n",
            "conv2d_5 (Conv2D)               (None, 128, 128, 128 32896       concatenate_4[0][0]              \n",
            "__________________________________________________________________________________________________\n",
            "batch_normalization_5 (BatchNor (None, 128, 128, 128 512         conv2d_5[0][0]                   \n",
            "__________________________________________________________________________________________________\n",
            "dropout_3 (Dropout)             (None, 128, 128, 128 0           batch_normalization_5[0][0]      \n",
            "__________________________________________________________________________________________________\n",
            "conv2d_6 (Conv2D)               (None, 128, 128, 128 16512       dropout_3[0][0]                  \n",
            "__________________________________________________________________________________________________\n",
            "batch_normalization_6 (BatchNor (None, 128, 128, 128 512         conv2d_6[0][0]                   \n",
            "__________________________________________________________________________________________________\n",
            "conv2d_transpose_4 (Conv2DTrans (None, 256, 256, 64) 32832       batch_normalization_6[0][0]      \n",
            "__________________________________________________________________________________________________\n",
            "concatenate_5 (Concatenate)     (None, 256, 256, 128 0           conv2d_transpose_4[0][0]         \n",
            "                                                                 block1_conv2[0][0]               \n",
            "__________________________________________________________________________________________________\n",
            "conv2d_7 (Conv2D)               (None, 256, 256, 64) 8256        concatenate_5[0][0]              \n",
            "__________________________________________________________________________________________________\n",
            "batch_normalization_7 (BatchNor (None, 256, 256, 64) 256         conv2d_7[0][0]                   \n",
            "__________________________________________________________________________________________________\n",
            "dropout_4 (Dropout)             (None, 256, 256, 64) 0           batch_normalization_7[0][0]      \n",
            "__________________________________________________________________________________________________\n",
            "conv2d_8 (Conv2D)               (None, 256, 256, 64) 4160        dropout_4[0][0]                  \n",
            "__________________________________________________________________________________________________\n",
            "batch_normalization_8 (BatchNor (None, 256, 256, 64) 256         conv2d_8[0][0]                   \n",
            "__________________________________________________________________________________________________\n",
            "conv2d_9 (Conv2D)               (None, 256, 256, 3)  195         batch_normalization_8[0][0]      \n",
            "==================================================================================================\n",
            "Total params: 15,146,819\n",
            "Trainable params: 7,507,715\n",
            "Non-trainable params: 7,639,104\n",
            "__________________________________________________________________________________________________\n",
            "None\n",
            "WARNING:tensorflow:From /usr/local/lib/python3.6/dist-packages/keras/optimizers.py:793: The name tf.train.Optimizer is deprecated. Please use tf.compat.v1.train.Optimizer instead.\n",
            "\n"
          ],
          "name": "stdout"
        }
      ]
    },
    {
      "cell_type": "markdown",
      "metadata": {
        "id": "BrxdLzami-mJ",
        "colab_type": "text"
      },
      "source": [
        "# Carga de datos"
      ]
    },
    {
      "cell_type": "code",
      "metadata": {
        "id": "2Tz_o6-aq9ky",
        "colab_type": "code",
        "colab": {}
      },
      "source": [
        "directory= '/content/drive/My Drive/myocardium-segmentation/'"
      ],
      "execution_count": 0,
      "outputs": []
    },
    {
      "cell_type": "code",
      "metadata": {
        "id": "TQI82AJ_y7LR",
        "colab_type": "code",
        "colab": {}
      },
      "source": [
        "X_test=np.load( directory + 'test_imgs.npy')\n",
        "y_test=np.load( directory + 'test_annot.npy')\n",
        "\n",
        "X_train=np.load( directory + 'train_imgs.npy')\n",
        "y_train=np.load( directory + 'train_annot.npy')\n",
        "\n",
        "X_val=np.load( directory + 'val_imgs.npy')\n",
        "y_val=np.load( directory + 'val_annot.npy')"
      ],
      "execution_count": 0,
      "outputs": []
    },
    {
      "cell_type": "code",
      "metadata": {
        "id": "1WPdUVNXzQjE",
        "colab_type": "code",
        "colab": {}
      },
      "source": [
        "X_test = X_test.reshape(1240,256,256,1)\n",
        "y_test = y_test.reshape(1240,256,256,1)\n",
        "\n",
        "X_train = X_train.reshape(4564,256,256,1)\n",
        "y_train = y_train.reshape(4564,256,256,1)\n",
        "\n",
        "X_val = X_val.reshape(502,256,256,1)\n",
        "y_val = y_val.reshape(502,256,256,1)"
      ],
      "execution_count": 0,
      "outputs": []
    },
    {
      "cell_type": "code",
      "metadata": {
        "id": "BiH8sratzR3J",
        "colab_type": "code",
        "colab": {}
      },
      "source": [
        "y_test = to_categorical(y_test,num_classes=3)\n",
        "y_train = to_categorical(y_train,num_classes=3)\n",
        "y_val = to_categorical(y_val,num_classes=3)\n"
      ],
      "execution_count": 0,
      "outputs": []
    },
    {
      "cell_type": "markdown",
      "metadata": {
        "id": "S5d9o6w7yefG",
        "colab_type": "text"
      },
      "source": [
        "#Callbacks\n",
        "\n"
      ]
    },
    {
      "cell_type": "code",
      "metadata": {
        "id": "Xqm7G_4M8pxK",
        "colab_type": "code",
        "colab": {}
      },
      "source": [
        "LOG_DIR = 'logs'\n",
        "model_filename = 'model_example.h5'\n",
        "callback_checkpoint = ModelCheckpoint(\n",
        "    directory+'results/models/'+model_filename, \n",
        "    verbose=1, \n",
        "    monitor='val_loss', \n",
        "    save_best_only=True,\n",
        ")\n",
        "\n",
        "tensorboard_callback = TensorBoard(log_dir=LOG_DIR)\n",
        "reduce_learning_rate = ReduceLROnPlateau(monitor='loss', factor=0.75, patience=1, verbose=1)\n",
        "early_stopping = EarlyStopping(monitor='val_loss', patience=3, verbose=1, mode='auto')\n"
      ],
      "execution_count": 0,
      "outputs": []
    },
    {
      "cell_type": "markdown",
      "metadata": {
        "id": "rUpXPe5jjB4V",
        "colab_type": "text"
      },
      "source": [
        "#Data Augmentation"
      ]
    },
    {
      "cell_type": "code",
      "metadata": {
        "id": "G2KgzwJYqWpd",
        "colab_type": "code",
        "colab": {}
      },
      "source": [
        "batch_size = 24\n",
        "train_gen = get_augmented(\n",
        "    X_train, y_train, batch_size=batch_size,\n",
        "    data_gen_args = dict(\n",
        "        rotation_range=15.,\n",
        "        width_shift_range=0,\n",
        "        height_shift_range=0,\n",
        "        shear_range=0,\n",
        "        zoom_range=0.2,\n",
        "        horizontal_flip=True,\n",
        "        vertical_flip=True,\n",
        "        fill_mode='constant'\n",
        "    ))\n"
      ],
      "execution_count": 0,
      "outputs": []
    },
    {
      "cell_type": "markdown",
      "metadata": {
        "id": "9u8a4oD0jEYm",
        "colab_type": "text"
      },
      "source": [
        "#Train"
      ]
    },
    {
      "cell_type": "code",
      "metadata": {
        "id": "80BQZPN9aQD6",
        "colab_type": "code",
        "outputId": "536ee92a-9679-428d-e109-8389c1623636",
        "colab": {
          "base_uri": "https://localhost:8080/",
          "height": 1000
        }
      },
      "source": [
        "epochs=100\n",
        "steps_per_epoch = X_train.shape[0]/batch_size\n",
        "result = model.fit_generator(train_gen, epochs=epochs, steps_per_epoch=steps_per_epoch,\n",
        "                                     validation_data=(X_val, y_val),\n",
        "                                     callbacks=[callback_checkpoint, tensorboard_callback, early_stopping])"
      ],
      "execution_count": 16,
      "outputs": [
        {
          "output_type": "stream",
          "text": [
            "Epoch 1/100\n",
            "191/190 [==============================] - 299s 2s/step - loss: 0.8548 - per_class_iou: 0.1911 - val_loss: 0.4294 - val_per_class_iou: 0.2791\n",
            "\n",
            "Epoch 00001: val_loss improved from inf to 0.42945, saving model to /content/drive/My Drive/myocardium-segmentation/results/models/dropout03\n",
            "WARNING:tensorflow:From /usr/local/lib/python3.6/dist-packages/keras/callbacks.py:1265: The name tf.Summary is deprecated. Please use tf.compat.v1.Summary instead.\n",
            "\n",
            "Epoch 2/100\n",
            "191/190 [==============================] - 286s 1s/step - loss: 0.3726 - per_class_iou: 0.2953 - val_loss: 0.1540 - val_per_class_iou: 0.4085\n",
            "\n",
            "Epoch 00002: val_loss improved from 0.42945 to 0.15404, saving model to /content/drive/My Drive/myocardium-segmentation/results/models/dropout03\n",
            "Epoch 3/100\n",
            "191/190 [==============================] - 286s 1s/step - loss: 0.1584 - per_class_iou: 0.4314 - val_loss: 0.0820 - val_per_class_iou: 0.5551\n",
            "\n",
            "Epoch 00003: val_loss improved from 0.15404 to 0.08201, saving model to /content/drive/My Drive/myocardium-segmentation/results/models/dropout03\n",
            "Epoch 4/100\n",
            "191/190 [==============================] - 286s 1s/step - loss: 0.1281 - per_class_iou: 0.4923 - val_loss: 0.0422 - val_per_class_iou: 0.6708\n",
            "\n",
            "Epoch 00004: val_loss improved from 0.08201 to 0.04217, saving model to /content/drive/My Drive/myocardium-segmentation/results/models/dropout03\n",
            "Epoch 5/100\n",
            "191/190 [==============================] - 286s 1s/step - loss: 0.1180 - per_class_iou: 0.5264 - val_loss: 0.0364 - val_per_class_iou: 0.6971\n",
            "\n",
            "Epoch 00005: val_loss improved from 0.04217 to 0.03642, saving model to /content/drive/My Drive/myocardium-segmentation/results/models/dropout03\n",
            "Epoch 6/100\n",
            "191/190 [==============================] - 286s 1s/step - loss: 0.1148 - per_class_iou: 0.5499 - val_loss: 0.0281 - val_per_class_iou: 0.7186\n",
            "\n",
            "Epoch 00006: val_loss improved from 0.03642 to 0.02809, saving model to /content/drive/My Drive/myocardium-segmentation/results/models/dropout03\n",
            "Epoch 7/100\n",
            "191/190 [==============================] - 286s 1s/step - loss: 0.1128 - per_class_iou: 0.5682 - val_loss: 0.0238 - val_per_class_iou: 0.7360\n",
            "\n",
            "Epoch 00007: val_loss improved from 0.02809 to 0.02383, saving model to /content/drive/My Drive/myocardium-segmentation/results/models/dropout03\n",
            "Epoch 8/100\n",
            "191/190 [==============================] - 286s 1s/step - loss: 0.1111 - per_class_iou: 0.5827 - val_loss: 0.0237 - val_per_class_iou: 0.7413\n",
            "\n",
            "Epoch 00008: val_loss improved from 0.02383 to 0.02374, saving model to /content/drive/My Drive/myocardium-segmentation/results/models/dropout03\n",
            "Epoch 9/100\n",
            "191/190 [==============================] - 286s 1s/step - loss: 0.1094 - per_class_iou: 0.6039 - val_loss: 0.0157 - val_per_class_iou: 0.7706\n",
            "\n",
            "Epoch 00009: val_loss improved from 0.02374 to 0.01569, saving model to /content/drive/My Drive/myocardium-segmentation/results/models/dropout03\n",
            "Epoch 10/100\n",
            "191/190 [==============================] - 286s 1s/step - loss: 0.1063 - per_class_iou: 0.6168 - val_loss: 0.0159 - val_per_class_iou: 0.7756\n",
            "\n",
            "Epoch 00010: val_loss did not improve from 0.01569\n",
            "Epoch 11/100\n",
            "191/190 [==============================] - 286s 1s/step - loss: 0.1068 - per_class_iou: 0.6228 - val_loss: 0.0154 - val_per_class_iou: 0.7805\n",
            "\n",
            "Epoch 00011: val_loss improved from 0.01569 to 0.01540, saving model to /content/drive/My Drive/myocardium-segmentation/results/models/dropout03\n",
            "Epoch 12/100\n",
            "191/190 [==============================] - 286s 1s/step - loss: 0.1084 - per_class_iou: 0.6297 - val_loss: 0.0142 - val_per_class_iou: 0.7866\n",
            "\n",
            "Epoch 00012: val_loss improved from 0.01540 to 0.01423, saving model to /content/drive/My Drive/myocardium-segmentation/results/models/dropout03\n",
            "Epoch 13/100\n",
            "191/190 [==============================] - 286s 1s/step - loss: 0.1081 - per_class_iou: 0.6371 - val_loss: 0.0116 - val_per_class_iou: 0.8006\n",
            "\n",
            "Epoch 00013: val_loss improved from 0.01423 to 0.01162, saving model to /content/drive/My Drive/myocardium-segmentation/results/models/dropout03\n",
            "Epoch 14/100\n",
            "191/190 [==============================] - 286s 1s/step - loss: 0.1064 - per_class_iou: 0.6373 - val_loss: 0.0115 - val_per_class_iou: 0.8016\n",
            "\n",
            "Epoch 00014: val_loss improved from 0.01162 to 0.01155, saving model to /content/drive/My Drive/myocardium-segmentation/results/models/dropout03\n",
            "Epoch 15/100\n",
            "191/190 [==============================] - 286s 1s/step - loss: 0.1067 - per_class_iou: 0.6497 - val_loss: 0.0109 - val_per_class_iou: 0.8104\n",
            "\n",
            "Epoch 00015: val_loss improved from 0.01155 to 0.01090, saving model to /content/drive/My Drive/myocardium-segmentation/results/models/dropout03\n",
            "Epoch 16/100\n",
            "191/190 [==============================] - 286s 1s/step - loss: 0.1070 - per_class_iou: 0.6574 - val_loss: 0.0103 - val_per_class_iou: 0.8114\n",
            "\n",
            "Epoch 00016: val_loss improved from 0.01090 to 0.01028, saving model to /content/drive/My Drive/myocardium-segmentation/results/models/dropout03\n",
            "Epoch 17/100\n",
            "191/190 [==============================] - 286s 1s/step - loss: 0.1048 - per_class_iou: 0.6761 - val_loss: 0.0108 - val_per_class_iou: 0.8110\n",
            "\n",
            "Epoch 00017: val_loss did not improve from 0.01028\n",
            "Epoch 18/100\n",
            "191/190 [==============================] - 286s 1s/step - loss: 0.1056 - per_class_iou: 0.6726 - val_loss: 0.0118 - val_per_class_iou: 0.8048\n",
            "\n",
            "Epoch 00018: val_loss did not improve from 0.01028\n",
            "Epoch 19/100\n",
            "191/190 [==============================] - 286s 1s/step - loss: 0.1040 - per_class_iou: 0.6629 - val_loss: 0.0109 - val_per_class_iou: 0.8124\n",
            "\n",
            "Epoch 00019: val_loss did not improve from 0.01028\n",
            "Epoch 00019: early stopping\n"
          ],
          "name": "stdout"
        }
      ]
    },
    {
      "cell_type": "markdown",
      "metadata": {
        "id": "x9egVOpajG4h",
        "colab_type": "text"
      },
      "source": [
        "#Evaluación"
      ]
    },
    {
      "cell_type": "code",
      "metadata": {
        "id": "fbhs2BFe1LHw",
        "colab_type": "code",
        "colab": {}
      },
      "source": [
        "ypred= model.predict(X_test)"
      ],
      "execution_count": 0,
      "outputs": []
    },
    {
      "cell_type": "code",
      "metadata": {
        "id": "uCR08o0f1J5M",
        "colab_type": "code",
        "colab": {
          "base_uri": "https://localhost:8080/",
          "height": 772
        },
        "outputId": "8ed72598-1f2f-4686-9df3-e6dd5b5da1de"
      },
      "source": [
        "extract_statistics(y_test,ypred,plot_examples=True)"
      ],
      "execution_count": 42,
      "outputs": [
        {
          "output_type": "display_data",
          "data": {
            "image/png": "[encoded data removed]",
            "text/plain": [
              "<Figure size 432x288 with 2 Axes>"
            ]
          },
          "metadata": {
            "tags": []
          }
        },
        {
          "output_type": "display_data",
          "data": {
            "image/png": "[encoded data removed]",
            "text/plain": [
              "<Figure size 432x288 with 2 Axes>"
            ]
          },
          "metadata": {
            "tags": []
          }
        },
        {
          "output_type": "stream",
          "text": [
            "USING <function np_iou at 0x7f21e94468c8>\n",
            "For class 0: 0.9969608049089648+-0.0018785406816838298\n",
            "For class 1: 0.6767867521542135+-0.13995426640132952\n",
            "For class 2: 0.8164576566879113+-0.16415138207231766\n",
            "Mean and std of scores per class: 0.8300684045836966\n",
            "Global IoU: 0.9912277348419032 +/- 0.004489014319401177\n",
            "------------------------------\n",
            "USING <function np_dice_coef at 0x7f21e9446ae8>\n",
            "For class 0: 0.9984771881641147+-0.0009458114349474926\n",
            "For class 1: 0.7960837650524574+-0.134201428480582\n",
            "For class 2: 0.8850424226311696+-0.15200415140756512\n",
            "Mean and std of scores per class: 0.8932011252825806\n",
            "Global IoU: 0.9955893739010596 +/- 0.0022786978246340846\n",
            "------------------------------\n",
            "USING <function np_iou_thresholded at 0x7f21e9446b70>\n",
            "For class 0: 0.9969608049089648+-0.0018785406816838298\n",
            "For class 1: 0.6767867521542135+-0.13995426640132952\n",
            "For class 2: 0.8164576566879113+-0.16415138207231766\n",
            "Mean and std of scores per class: 0.8300684045836966\n",
            "Global IoU: 0.9912277348419032 +/- 0.004489014319401177\n",
            "------------------------------\n"
          ],
          "name": "stdout"
        }
      ]
    }
  ]
}